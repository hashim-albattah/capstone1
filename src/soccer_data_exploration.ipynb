{
 "cells": [
  {
   "cell_type": "code",
   "execution_count": 23,
   "metadata": {},
   "outputs": [],
   "source": [
    "import os\n",
    "import numpy as np\n",
    "import pandas as pd\n",
    "import matplotlib.pyplot as plt\n",
    "import datetime\n",
    "import pyspark as ps\n",
    "import json\n"
   ]
  },
  {
   "cell_type": "code",
   "execution_count": 24,
   "metadata": {},
   "outputs": [
    {
     "name": "stdout",
     "output_type": "stream",
     "text": [
      "/home/jovyan/work/galvanize/capstone1/src\n"
     ]
    }
   ],
   "source": [
    "!pwd"
   ]
  },
  {
   "cell_type": "code",
   "execution_count": null,
   "metadata": {},
   "outputs": [],
   "source": []
  },
  {
   "cell_type": "code",
   "execution_count": 25,
   "metadata": {},
   "outputs": [
    {
     "name": "stdout",
     "output_type": "stream",
     "text": [
      "<class 'str'>\n",
      "<class 'str'>\n",
      "<class 'str'>\n",
      "<class 'str'>\n",
      "<class 'str'>\n"
     ]
    }
   ],
   "source": [
    "for filename in os.listdir('/home/jovyan/work/galvanize/capstone1/src'):\n",
    "    print(type(filename))"
   ]
  },
  {
   "cell_type": "code",
   "execution_count": 26,
   "metadata": {},
   "outputs": [],
   "source": [
    "\n",
    "with open('../data/competitions.json') as data_file:    \n",
    "    data = json.load(data_file)\n",
    "competitions_df = pd.json_normalize(data, sep = \"_\")"
   ]
  },
  {
   "cell_type": "code",
   "execution_count": 27,
   "metadata": {},
   "outputs": [
    {
     "data": {
      "text/html": [
       "<div>\n",
       "<style scoped>\n",
       "    .dataframe tbody tr th:only-of-type {\n",
       "        vertical-align: middle;\n",
       "    }\n",
       "\n",
       "    .dataframe tbody tr th {\n",
       "        vertical-align: top;\n",
       "    }\n",
       "\n",
       "    .dataframe thead th {\n",
       "        text-align: right;\n",
       "    }\n",
       "</style>\n",
       "<table border=\"1\" class=\"dataframe\">\n",
       "  <thead>\n",
       "    <tr style=\"text-align: right;\">\n",
       "      <th></th>\n",
       "      <th>competition_id</th>\n",
       "      <th>season_id</th>\n",
       "      <th>country_name</th>\n",
       "      <th>competition_name</th>\n",
       "      <th>competition_gender</th>\n",
       "      <th>season_name</th>\n",
       "      <th>match_updated</th>\n",
       "      <th>match_available</th>\n",
       "    </tr>\n",
       "  </thead>\n",
       "  <tbody>\n",
       "    <tr>\n",
       "      <th>0</th>\n",
       "      <td>16</td>\n",
       "      <td>4</td>\n",
       "      <td>Europe</td>\n",
       "      <td>Champions League</td>\n",
       "      <td>male</td>\n",
       "      <td>2018/2019</td>\n",
       "      <td>2020-07-29T05:00</td>\n",
       "      <td>2020-07-29T05:00</td>\n",
       "    </tr>\n",
       "    <tr>\n",
       "      <th>1</th>\n",
       "      <td>16</td>\n",
       "      <td>1</td>\n",
       "      <td>Europe</td>\n",
       "      <td>Champions League</td>\n",
       "      <td>male</td>\n",
       "      <td>2017/2018</td>\n",
       "      <td>2020-07-29T05:00</td>\n",
       "      <td>2020-07-29T05:00</td>\n",
       "    </tr>\n",
       "    <tr>\n",
       "      <th>2</th>\n",
       "      <td>16</td>\n",
       "      <td>2</td>\n",
       "      <td>Europe</td>\n",
       "      <td>Champions League</td>\n",
       "      <td>male</td>\n",
       "      <td>2016/2017</td>\n",
       "      <td>2020-08-26T12:33:15.869622</td>\n",
       "      <td>2020-07-29T05:00</td>\n",
       "    </tr>\n",
       "    <tr>\n",
       "      <th>3</th>\n",
       "      <td>16</td>\n",
       "      <td>27</td>\n",
       "      <td>Europe</td>\n",
       "      <td>Champions League</td>\n",
       "      <td>male</td>\n",
       "      <td>2015/2016</td>\n",
       "      <td>2020-08-26T12:33:15.869622</td>\n",
       "      <td>2020-07-29T05:00</td>\n",
       "    </tr>\n",
       "    <tr>\n",
       "      <th>4</th>\n",
       "      <td>16</td>\n",
       "      <td>26</td>\n",
       "      <td>Europe</td>\n",
       "      <td>Champions League</td>\n",
       "      <td>male</td>\n",
       "      <td>2014/2015</td>\n",
       "      <td>2020-08-26T12:33:15.869622</td>\n",
       "      <td>2020-07-29T05:00</td>\n",
       "    </tr>\n",
       "  </tbody>\n",
       "</table>\n",
       "</div>"
      ],
      "text/plain": [
       "   competition_id  season_id country_name  competition_name  \\\n",
       "0              16          4       Europe  Champions League   \n",
       "1              16          1       Europe  Champions League   \n",
       "2              16          2       Europe  Champions League   \n",
       "3              16         27       Europe  Champions League   \n",
       "4              16         26       Europe  Champions League   \n",
       "\n",
       "  competition_gender season_name               match_updated   match_available  \n",
       "0               male   2018/2019            2020-07-29T05:00  2020-07-29T05:00  \n",
       "1               male   2017/2018            2020-07-29T05:00  2020-07-29T05:00  \n",
       "2               male   2016/2017  2020-08-26T12:33:15.869622  2020-07-29T05:00  \n",
       "3               male   2015/2016  2020-08-26T12:33:15.869622  2020-07-29T05:00  \n",
       "4               male   2014/2015  2020-08-26T12:33:15.869622  2020-07-29T05:00  "
      ]
     },
     "execution_count": 27,
     "metadata": {},
     "output_type": "execute_result"
    }
   ],
   "source": [
    "competitions_df.head()"
   ]
  },
  {
   "cell_type": "code",
   "execution_count": 28,
   "metadata": {},
   "outputs": [
    {
     "name": "stdout",
     "output_type": "stream",
     "text": [
      "<class 'pandas.core.frame.DataFrame'>\n",
      "RangeIndex: 37 entries, 0 to 36\n",
      "Data columns (total 8 columns):\n",
      " #   Column              Non-Null Count  Dtype \n",
      "---  ------              --------------  ----- \n",
      " 0   competition_id      37 non-null     int64 \n",
      " 1   season_id           37 non-null     int64 \n",
      " 2   country_name        37 non-null     object\n",
      " 3   competition_name    37 non-null     object\n",
      " 4   competition_gender  37 non-null     object\n",
      " 5   season_name         37 non-null     object\n",
      " 6   match_updated       37 non-null     object\n",
      " 7   match_available     37 non-null     object\n",
      "dtypes: int64(2), object(6)\n",
      "memory usage: 2.4+ KB\n"
     ]
    }
   ],
   "source": [
    "competitions_df.info()"
   ]
  },
  {
   "cell_type": "code",
   "execution_count": 29,
   "metadata": {},
   "outputs": [],
   "source": [
    "with open('../data/events/15946.json') as data_file:    \n",
    "    data = json.load(data_file)\n",
    "event15946_df = pd.json_normalize(data, sep = \"_\")"
   ]
  },
  {
   "cell_type": "code",
   "execution_count": 30,
   "metadata": {},
   "outputs": [
    {
     "data": {
      "text/html": [
       "<div>\n",
       "<style scoped>\n",
       "    .dataframe tbody tr th:only-of-type {\n",
       "        vertical-align: middle;\n",
       "    }\n",
       "\n",
       "    .dataframe tbody tr th {\n",
       "        vertical-align: top;\n",
       "    }\n",
       "\n",
       "    .dataframe thead th {\n",
       "        text-align: right;\n",
       "    }\n",
       "</style>\n",
       "<table border=\"1\" class=\"dataframe\">\n",
       "  <thead>\n",
       "    <tr style=\"text-align: right;\">\n",
       "      <th></th>\n",
       "      <th>id</th>\n",
       "      <th>index</th>\n",
       "      <th>period</th>\n",
       "      <th>timestamp</th>\n",
       "      <th>minute</th>\n",
       "      <th>second</th>\n",
       "      <th>possession</th>\n",
       "      <th>duration</th>\n",
       "      <th>type_id</th>\n",
       "      <th>type_name</th>\n",
       "      <th>...</th>\n",
       "      <th>substitution_outcome_name</th>\n",
       "      <th>substitution_replacement_id</th>\n",
       "      <th>substitution_replacement_name</th>\n",
       "      <th>pass_cut_back</th>\n",
       "      <th>shot_one_on_one</th>\n",
       "      <th>foul_committed_advantage</th>\n",
       "      <th>foul_won_advantage</th>\n",
       "      <th>foul_committed_type_id</th>\n",
       "      <th>foul_committed_type_name</th>\n",
       "      <th>pass_goal_assist</th>\n",
       "    </tr>\n",
       "  </thead>\n",
       "  <tbody>\n",
       "    <tr>\n",
       "      <th>0</th>\n",
       "      <td>ce508a95-38d3-4248-a50e-dc8d7e23230c</td>\n",
       "      <td>1</td>\n",
       "      <td>1</td>\n",
       "      <td>00:00:00.000</td>\n",
       "      <td>0</td>\n",
       "      <td>0</td>\n",
       "      <td>1</td>\n",
       "      <td>0.000</td>\n",
       "      <td>35</td>\n",
       "      <td>Starting XI</td>\n",
       "      <td>...</td>\n",
       "      <td>NaN</td>\n",
       "      <td>NaN</td>\n",
       "      <td>NaN</td>\n",
       "      <td>NaN</td>\n",
       "      <td>NaN</td>\n",
       "      <td>NaN</td>\n",
       "      <td>NaN</td>\n",
       "      <td>NaN</td>\n",
       "      <td>NaN</td>\n",
       "      <td>NaN</td>\n",
       "    </tr>\n",
       "    <tr>\n",
       "      <th>1</th>\n",
       "      <td>39abd1c2-2575-41be-ae79-3e936eead529</td>\n",
       "      <td>2</td>\n",
       "      <td>1</td>\n",
       "      <td>00:00:00.000</td>\n",
       "      <td>0</td>\n",
       "      <td>0</td>\n",
       "      <td>1</td>\n",
       "      <td>0.000</td>\n",
       "      <td>35</td>\n",
       "      <td>Starting XI</td>\n",
       "      <td>...</td>\n",
       "      <td>NaN</td>\n",
       "      <td>NaN</td>\n",
       "      <td>NaN</td>\n",
       "      <td>NaN</td>\n",
       "      <td>NaN</td>\n",
       "      <td>NaN</td>\n",
       "      <td>NaN</td>\n",
       "      <td>NaN</td>\n",
       "      <td>NaN</td>\n",
       "      <td>NaN</td>\n",
       "    </tr>\n",
       "    <tr>\n",
       "      <th>2</th>\n",
       "      <td>1148e967-380f-421f-97f0-d0c820c72984</td>\n",
       "      <td>3</td>\n",
       "      <td>1</td>\n",
       "      <td>00:00:00.000</td>\n",
       "      <td>0</td>\n",
       "      <td>0</td>\n",
       "      <td>1</td>\n",
       "      <td>0.000</td>\n",
       "      <td>18</td>\n",
       "      <td>Half Start</td>\n",
       "      <td>...</td>\n",
       "      <td>NaN</td>\n",
       "      <td>NaN</td>\n",
       "      <td>NaN</td>\n",
       "      <td>NaN</td>\n",
       "      <td>NaN</td>\n",
       "      <td>NaN</td>\n",
       "      <td>NaN</td>\n",
       "      <td>NaN</td>\n",
       "      <td>NaN</td>\n",
       "      <td>NaN</td>\n",
       "    </tr>\n",
       "    <tr>\n",
       "      <th>3</th>\n",
       "      <td>7cf6876d-7c50-4d64-b999-e2a039641c81</td>\n",
       "      <td>4</td>\n",
       "      <td>1</td>\n",
       "      <td>00:00:00.000</td>\n",
       "      <td>0</td>\n",
       "      <td>0</td>\n",
       "      <td>1</td>\n",
       "      <td>0.000</td>\n",
       "      <td>18</td>\n",
       "      <td>Half Start</td>\n",
       "      <td>...</td>\n",
       "      <td>NaN</td>\n",
       "      <td>NaN</td>\n",
       "      <td>NaN</td>\n",
       "      <td>NaN</td>\n",
       "      <td>NaN</td>\n",
       "      <td>NaN</td>\n",
       "      <td>NaN</td>\n",
       "      <td>NaN</td>\n",
       "      <td>NaN</td>\n",
       "      <td>NaN</td>\n",
       "    </tr>\n",
       "    <tr>\n",
       "      <th>4</th>\n",
       "      <td>34208ade-2af4-45c3-970e-655937cad938</td>\n",
       "      <td>5</td>\n",
       "      <td>1</td>\n",
       "      <td>00:00:00.098</td>\n",
       "      <td>0</td>\n",
       "      <td>0</td>\n",
       "      <td>2</td>\n",
       "      <td>1.909</td>\n",
       "      <td>30</td>\n",
       "      <td>Pass</td>\n",
       "      <td>...</td>\n",
       "      <td>NaN</td>\n",
       "      <td>NaN</td>\n",
       "      <td>NaN</td>\n",
       "      <td>NaN</td>\n",
       "      <td>NaN</td>\n",
       "      <td>NaN</td>\n",
       "      <td>NaN</td>\n",
       "      <td>NaN</td>\n",
       "      <td>NaN</td>\n",
       "      <td>NaN</td>\n",
       "    </tr>\n",
       "  </tbody>\n",
       "</table>\n",
       "<p>5 rows × 105 columns</p>\n",
       "</div>"
      ],
      "text/plain": [
       "                                     id  index  period     timestamp  minute  \\\n",
       "0  ce508a95-38d3-4248-a50e-dc8d7e23230c      1       1  00:00:00.000       0   \n",
       "1  39abd1c2-2575-41be-ae79-3e936eead529      2       1  00:00:00.000       0   \n",
       "2  1148e967-380f-421f-97f0-d0c820c72984      3       1  00:00:00.000       0   \n",
       "3  7cf6876d-7c50-4d64-b999-e2a039641c81      4       1  00:00:00.000       0   \n",
       "4  34208ade-2af4-45c3-970e-655937cad938      5       1  00:00:00.098       0   \n",
       "\n",
       "   second  possession  duration  type_id    type_name  ...  \\\n",
       "0       0           1     0.000       35  Starting XI  ...   \n",
       "1       0           1     0.000       35  Starting XI  ...   \n",
       "2       0           1     0.000       18   Half Start  ...   \n",
       "3       0           1     0.000       18   Half Start  ...   \n",
       "4       0           2     1.909       30         Pass  ...   \n",
       "\n",
       "   substitution_outcome_name substitution_replacement_id  \\\n",
       "0                        NaN                         NaN   \n",
       "1                        NaN                         NaN   \n",
       "2                        NaN                         NaN   \n",
       "3                        NaN                         NaN   \n",
       "4                        NaN                         NaN   \n",
       "\n",
       "   substitution_replacement_name pass_cut_back  shot_one_on_one  \\\n",
       "0                            NaN           NaN              NaN   \n",
       "1                            NaN           NaN              NaN   \n",
       "2                            NaN           NaN              NaN   \n",
       "3                            NaN           NaN              NaN   \n",
       "4                            NaN           NaN              NaN   \n",
       "\n",
       "  foul_committed_advantage  foul_won_advantage foul_committed_type_id  \\\n",
       "0                      NaN                 NaN                    NaN   \n",
       "1                      NaN                 NaN                    NaN   \n",
       "2                      NaN                 NaN                    NaN   \n",
       "3                      NaN                 NaN                    NaN   \n",
       "4                      NaN                 NaN                    NaN   \n",
       "\n",
       "  foul_committed_type_name pass_goal_assist  \n",
       "0                      NaN              NaN  \n",
       "1                      NaN              NaN  \n",
       "2                      NaN              NaN  \n",
       "3                      NaN              NaN  \n",
       "4                      NaN              NaN  \n",
       "\n",
       "[5 rows x 105 columns]"
      ]
     },
     "execution_count": 30,
     "metadata": {},
     "output_type": "execute_result"
    }
   ],
   "source": [
    "event15946_df.head()"
   ]
  },
  {
   "cell_type": "code",
   "execution_count": 31,
   "metadata": {},
   "outputs": [
    {
     "name": "stdout",
     "output_type": "stream",
     "text": [
      "<class 'pandas.core.frame.DataFrame'>\n",
      "RangeIndex: 4002 entries, 0 to 4001\n",
      "Columns: 105 entries, id to pass_goal_assist\n",
      "dtypes: float64(32), int64(9), object(64)\n",
      "memory usage: 3.2+ MB\n"
     ]
    }
   ],
   "source": [
    "event15946_df.info()"
   ]
  },
  {
   "cell_type": "code",
   "execution_count": 32,
   "metadata": {},
   "outputs": [],
   "source": [
    "data = json.load(open('../data/lineups/15946.json'))\n",
    "lineup15946_df = pd.json_normalize(data, sep = \"_\")"
   ]
  },
  {
   "cell_type": "code",
   "execution_count": 33,
   "metadata": {},
   "outputs": [
    {
     "data": {
      "text/html": [
       "<div>\n",
       "<style scoped>\n",
       "    .dataframe tbody tr th:only-of-type {\n",
       "        vertical-align: middle;\n",
       "    }\n",
       "\n",
       "    .dataframe tbody tr th {\n",
       "        vertical-align: top;\n",
       "    }\n",
       "\n",
       "    .dataframe thead th {\n",
       "        text-align: right;\n",
       "    }\n",
       "</style>\n",
       "<table border=\"1\" class=\"dataframe\">\n",
       "  <thead>\n",
       "    <tr style=\"text-align: right;\">\n",
       "      <th></th>\n",
       "      <th>team_id</th>\n",
       "      <th>team_name</th>\n",
       "      <th>lineup</th>\n",
       "    </tr>\n",
       "  </thead>\n",
       "  <tbody>\n",
       "    <tr>\n",
       "      <th>0</th>\n",
       "      <td>217</td>\n",
       "      <td>Barcelona</td>\n",
       "      <td>[{'player_id': 3109, 'player_name': 'Malcom Fi...</td>\n",
       "    </tr>\n",
       "    <tr>\n",
       "      <th>1</th>\n",
       "      <td>206</td>\n",
       "      <td>Deportivo Alavés</td>\n",
       "      <td>[{'player_id': 6566, 'player_name': 'Borja Gon...</td>\n",
       "    </tr>\n",
       "  </tbody>\n",
       "</table>\n",
       "</div>"
      ],
      "text/plain": [
       "   team_id         team_name  \\\n",
       "0      217         Barcelona   \n",
       "1      206  Deportivo Alavés   \n",
       "\n",
       "                                              lineup  \n",
       "0  [{'player_id': 3109, 'player_name': 'Malcom Fi...  \n",
       "1  [{'player_id': 6566, 'player_name': 'Borja Gon...  "
      ]
     },
     "execution_count": 33,
     "metadata": {},
     "output_type": "execute_result"
    }
   ],
   "source": [
    "lineup15946_df.head()"
   ]
  },
  {
   "cell_type": "code",
   "execution_count": 34,
   "metadata": {},
   "outputs": [
    {
     "name": "stdout",
     "output_type": "stream",
     "text": [
      "<class 'pandas.core.frame.DataFrame'>\n",
      "RangeIndex: 2 entries, 0 to 1\n",
      "Data columns (total 3 columns):\n",
      " #   Column     Non-Null Count  Dtype \n",
      "---  ------     --------------  ----- \n",
      " 0   team_id    2 non-null      int64 \n",
      " 1   team_name  2 non-null      object\n",
      " 2   lineup     2 non-null      object\n",
      "dtypes: int64(1), object(2)\n",
      "memory usage: 176.0+ bytes\n"
     ]
    }
   ],
   "source": [
    "lineup15946_df.info()"
   ]
  },
  {
   "cell_type": "code",
   "execution_count": 35,
   "metadata": {},
   "outputs": [],
   "source": [
    "#need to determine what league and season i am in first"
   ]
  },
  {
   "cell_type": "code",
   "execution_count": 36,
   "metadata": {},
   "outputs": [],
   "source": [
    "# for filename in os.listdir('../data/events'):\n",
    "#     with open(f'../data/matches/{filename}') as data_file:    \n",
    "#         data = json.load(data_file)\n",
    "#     match15946_df = pd.json_normalize(data, sep = \"_\")"
   ]
  },
  {
   "cell_type": "code",
   "execution_count": null,
   "metadata": {},
   "outputs": [],
   "source": []
  },
  {
   "cell_type": "code",
   "execution_count": null,
   "metadata": {},
   "outputs": [],
   "source": []
  },
  {
   "cell_type": "code",
   "execution_count": 38,
   "metadata": {},
   "outputs": [],
   "source": [
    "#run json reader loop into spark, so they load quicker, than convert to pandas and use json_normalize. from here i can go back to spark or stick with pandas\n",
    "\n",
    "spark = (ps.sql.SparkSession.builder \n",
    "        .master(\"local[4]\") \n",
    "        .appName(\"sparkSQL exercise\") \n",
    "        .getOrCreate()\n",
    "        )\n",
    "sc = spark.sparkContext"
   ]
  },
  {
   "cell_type": "code",
   "execution_count": 100,
   "metadata": {},
   "outputs": [],
   "source": [
    "#make list of match ids and zip\n",
    "def match_ids(json_path,folder_name):\n",
    "    ids = []\n",
    "    for filename in os.listdir(json_path):\n",
    "        ids.append(folder_name + filename[:-5])\n",
    "    return ids\n",
    "    \n",
    "def json_folder_reader(json_path,match_ids):\n",
    "    lst = []\n",
    "    for filename,idx in zip(os.listdir(json_path),match_ids):\n",
    "        if '.json' not in filename:\n",
    "            continue\n",
    "        var = pd.json_normalize(json.load(open(json_path + '/' + filename)),sep=\"_\")\n",
    "        print(json_path)\n",
    "        print(filename)\n",
    "        lst.append(var)\n",
    "        return lst"
   ]
  },
  {
   "cell_type": "code",
   "execution_count": 101,
   "metadata": {},
   "outputs": [
    {
     "name": "stdout",
     "output_type": "stream",
     "text": [
      "../data/events\n",
      "15946.json\n"
     ]
    },
    {
     "data": {
      "text/plain": [
       "[                                        id  index  period     timestamp  \\\n",
       " 0     ce508a95-38d3-4248-a50e-dc8d7e23230c      1       1  00:00:00.000   \n",
       " 1     39abd1c2-2575-41be-ae79-3e936eead529      2       1  00:00:00.000   \n",
       " 2     1148e967-380f-421f-97f0-d0c820c72984      3       1  00:00:00.000   \n",
       " 3     7cf6876d-7c50-4d64-b999-e2a039641c81      4       1  00:00:00.000   \n",
       " 4     34208ade-2af4-45c3-970e-655937cad938      5       1  00:00:00.098   \n",
       " ...                                    ...    ...     ...           ...   \n",
       " 3997  be8a2725-6a34-45d5-8a49-5c9e0208e805   3998       2  00:46:41.244   \n",
       " 3998  55d71847-9511-4417-aea9-6f415e279011   3999       2  00:46:42.770   \n",
       " 3999  f93a1612-e2de-4efe-b202-6c4a178eebad   4000       2  00:46:43.268   \n",
       " 4000  e1cc4d5e-ba55-4b6b-88cc-dae13311c1d9   4001       2  00:47:32.053   \n",
       " 4001  cd767526-5f64-4600-acbf-e0a2608f0d00   4002       2  00:47:32.053   \n",
       " \n",
       "       minute  second  possession  duration  type_id    type_name  ...  \\\n",
       " 0          0       0           1  0.000000       35  Starting XI  ...   \n",
       " 1          0       0           1  0.000000       35  Starting XI  ...   \n",
       " 2          0       0           1  0.000000       18   Half Start  ...   \n",
       " 3          0       0           1  0.000000       18   Half Start  ...   \n",
       " 4          0       0           2  1.909000       30         Pass  ...   \n",
       " ...      ...     ...         ...       ...      ...          ...  ...   \n",
       " 3997      91      41         144  0.525000       17     Pressure  ...   \n",
       " 3998      91      42         144  0.497348       16         Shot  ...   \n",
       " 3999      91      43         144  0.000000       23  Goal Keeper  ...   \n",
       " 4000      92      32         144  0.000000       34     Half End  ...   \n",
       " 4001      92      32         144  0.000000       34     Half End  ...   \n",
       " \n",
       "       substitution_outcome_name substitution_replacement_id  \\\n",
       " 0                           NaN                         NaN   \n",
       " 1                           NaN                         NaN   \n",
       " 2                           NaN                         NaN   \n",
       " 3                           NaN                         NaN   \n",
       " 4                           NaN                         NaN   \n",
       " ...                         ...                         ...   \n",
       " 3997                        NaN                         NaN   \n",
       " 3998                        NaN                         NaN   \n",
       " 3999                        NaN                         NaN   \n",
       " 4000                        NaN                         NaN   \n",
       " 4001                        NaN                         NaN   \n",
       " \n",
       "       substitution_replacement_name pass_cut_back  shot_one_on_one  \\\n",
       " 0                               NaN           NaN              NaN   \n",
       " 1                               NaN           NaN              NaN   \n",
       " 2                               NaN           NaN              NaN   \n",
       " 3                               NaN           NaN              NaN   \n",
       " 4                               NaN           NaN              NaN   \n",
       " ...                             ...           ...              ...   \n",
       " 3997                            NaN           NaN              NaN   \n",
       " 3998                            NaN           NaN              NaN   \n",
       " 3999                            NaN           NaN              NaN   \n",
       " 4000                            NaN           NaN              NaN   \n",
       " 4001                            NaN           NaN              NaN   \n",
       " \n",
       "      foul_committed_advantage  foul_won_advantage foul_committed_type_id  \\\n",
       " 0                         NaN                 NaN                    NaN   \n",
       " 1                         NaN                 NaN                    NaN   \n",
       " 2                         NaN                 NaN                    NaN   \n",
       " 3                         NaN                 NaN                    NaN   \n",
       " 4                         NaN                 NaN                    NaN   \n",
       " ...                       ...                 ...                    ...   \n",
       " 3997                      NaN                 NaN                    NaN   \n",
       " 3998                      NaN                 NaN                    NaN   \n",
       " 3999                      NaN                 NaN                    NaN   \n",
       " 4000                      NaN                 NaN                    NaN   \n",
       " 4001                      NaN                 NaN                    NaN   \n",
       " \n",
       "      foul_committed_type_name pass_goal_assist  \n",
       " 0                         NaN              NaN  \n",
       " 1                         NaN              NaN  \n",
       " 2                         NaN              NaN  \n",
       " 3                         NaN              NaN  \n",
       " 4                         NaN              NaN  \n",
       " ...                       ...              ...  \n",
       " 3997                      NaN              NaN  \n",
       " 3998                      NaN              NaN  \n",
       " 3999                      NaN              NaN  \n",
       " 4000                      NaN              NaN  \n",
       " 4001                      NaN              NaN  \n",
       " \n",
       " [4002 rows x 105 columns]]"
      ]
     },
     "execution_count": 101,
     "metadata": {},
     "output_type": "execute_result"
    }
   ],
   "source": [
    "json_folder_reader('../data/events','events')"
   ]
  },
  {
   "cell_type": "code",
   "execution_count": 83,
   "metadata": {},
   "outputs": [],
   "source": [
    "# filename = pd.json_normalize(data, sep = \"_\")"
   ]
  },
  {
   "cell_type": "code",
   "execution_count": 84,
   "metadata": {},
   "outputs": [],
   "source": [
    "# lineups_dict = json_folder_reader('../data/lineups')"
   ]
  },
  {
   "cell_type": "code",
   "execution_count": 89,
   "metadata": {},
   "outputs": [
    {
     "data": {
      "text/plain": [
       "['lineups15946',\n",
       " 'lineups15956',\n",
       " 'lineups15973',\n",
       " 'lineups15978',\n",
       " 'lineups15986']"
      ]
     },
     "execution_count": 89,
     "metadata": {},
     "output_type": "execute_result"
    }
   ],
   "source": [
    "lineups_match_ids = match_ids('../data/lineups','lineups')\n",
    "\n",
    "lineups_match_ids[:5]"
   ]
  },
  {
   "cell_type": "code",
   "execution_count": 90,
   "metadata": {},
   "outputs": [
    {
     "ename": "TypeError",
     "evalue": "'NoneType' object is not subscriptable",
     "output_type": "error",
     "traceback": [
      "\u001b[0;31m---------------------------------------------------------------------------\u001b[0m",
      "\u001b[0;31mTypeError\u001b[0m                                 Traceback (most recent call last)",
      "\u001b[0;32m<ipython-input-90-30bfd796d7de>\u001b[0m in \u001b[0;36m<module>\u001b[0;34m\u001b[0m\n\u001b[1;32m      1\u001b[0m \u001b[0mlineups_sparkdf_lst\u001b[0m \u001b[0;34m=\u001b[0m \u001b[0mjson_folder_reader\u001b[0m\u001b[0;34m(\u001b[0m\u001b[0;34m'../data/lineups'\u001b[0m\u001b[0;34m,\u001b[0m\u001b[0mlineups_match_ids\u001b[0m\u001b[0;34m)\u001b[0m\u001b[0;34m\u001b[0m\u001b[0;34m\u001b[0m\u001b[0m\n\u001b[0;32m----> 2\u001b[0;31m \u001b[0mlineups_sparkdf_lst\u001b[0m\u001b[0;34m[\u001b[0m\u001b[0;34m:\u001b[0m\u001b[0;36m5\u001b[0m\u001b[0;34m]\u001b[0m\u001b[0;34m\u001b[0m\u001b[0;34m\u001b[0m\u001b[0m\n\u001b[0m",
      "\u001b[0;31mTypeError\u001b[0m: 'NoneType' object is not subscriptable"
     ]
    }
   ],
   "source": [
    "lineups_sparkdf_lst = json_folder_reader('../data/lineups',lineups_match_ids)\n",
    "lineups_sparkdf_lst[:5]"
   ]
  },
  {
   "cell_type": "code",
   "execution_count": 87,
   "metadata": {},
   "outputs": [
    {
     "ename": "TypeError",
     "evalue": "'NoneType' object is not iterable",
     "output_type": "error",
     "traceback": [
      "\u001b[0;31m---------------------------------------------------------------------------\u001b[0m",
      "\u001b[0;31mTypeError\u001b[0m                                 Traceback (most recent call last)",
      "\u001b[0;32m<ipython-input-87-9cf849c00868>\u001b[0m in \u001b[0;36m<module>\u001b[0;34m\u001b[0m\n\u001b[0;32m----> 1\u001b[0;31m \u001b[0;32mfor\u001b[0m \u001b[0mi\u001b[0m \u001b[0;32min\u001b[0m \u001b[0mlineups_sparkdf_lst\u001b[0m\u001b[0;34m:\u001b[0m\u001b[0;34m\u001b[0m\u001b[0;34m\u001b[0m\u001b[0m\n\u001b[0m\u001b[1;32m      2\u001b[0m     \u001b[0mi\u001b[0m \u001b[0;34m=\u001b[0m \u001b[0mi\u001b[0m\u001b[0;34m.\u001b[0m\u001b[0mtoPandas\u001b[0m\u001b[0;34m(\u001b[0m\u001b[0;34m)\u001b[0m\u001b[0;34m\u001b[0m\u001b[0;34m\u001b[0m\u001b[0m\n\u001b[1;32m      3\u001b[0m \u001b[0;32mfor\u001b[0m \u001b[0mi\u001b[0m \u001b[0;32min\u001b[0m \u001b[0mlineups_sparkdf_lst\u001b[0m\u001b[0;34m:\u001b[0m\u001b[0;34m\u001b[0m\u001b[0;34m\u001b[0m\u001b[0m\n\u001b[1;32m      4\u001b[0m     \u001b[0mi\u001b[0m \u001b[0;34m=\u001b[0m \u001b[0mpd\u001b[0m\u001b[0;34m.\u001b[0m\u001b[0mjson_normalize\u001b[0m\u001b[0;34m(\u001b[0m\u001b[0mi\u001b[0m\u001b[0;34m,\u001b[0m\u001b[0msep\u001b[0m \u001b[0;34m=\u001b[0m \u001b[0;34m\"_\"\u001b[0m\u001b[0;34m)\u001b[0m\u001b[0;34m\u001b[0m\u001b[0;34m\u001b[0m\u001b[0m\n",
      "\u001b[0;31mTypeError\u001b[0m: 'NoneType' object is not iterable"
     ]
    }
   ],
   "source": [
    "for i in lineups_sparkdf_lst:\n",
    "    i = i.toPandas()\n",
    "for i in lineups_sparkdf_lst:\n",
    "    i = pd.json_normalize(i,sep = \"_\")"
   ]
  },
  {
   "cell_type": "code",
   "execution_count": null,
   "metadata": {},
   "outputs": [],
   "source": []
  },
  {
   "cell_type": "code",
   "execution_count": null,
   "metadata": {},
   "outputs": [],
   "source": [
    "data = json.load(open('../data/lineups/15946.json'))\n",
    "lineup15946_df = pd.json_normalize(data, sep = \"_\")"
   ]
  },
  {
   "cell_type": "code",
   "execution_count": 91,
   "metadata": {},
   "outputs": [
    {
     "ename": "NameError",
     "evalue": "name 'json_path' is not defined",
     "output_type": "error",
     "traceback": [
      "\u001b[0;31m---------------------------------------------------------------------------\u001b[0m",
      "\u001b[0;31mNameError\u001b[0m                                 Traceback (most recent call last)",
      "\u001b[0;32m<ipython-input-91-510775dbe990>\u001b[0m in \u001b[0;36m<module>\u001b[0;34m\u001b[0m\n\u001b[0;32m----> 1\u001b[0;31m \u001b[0;32mfor\u001b[0m \u001b[0mfilename\u001b[0m \u001b[0;32min\u001b[0m \u001b[0mos\u001b[0m\u001b[0;34m.\u001b[0m\u001b[0mlistdir\u001b[0m\u001b[0;34m(\u001b[0m\u001b[0mjson_path\u001b[0m\u001b[0;34m)\u001b[0m\u001b[0;34m:\u001b[0m\u001b[0;34m\u001b[0m\u001b[0;34m\u001b[0m\u001b[0m\n\u001b[0m\u001b[1;32m      2\u001b[0m     \u001b[0mpd\u001b[0m\u001b[0;34m.\u001b[0m\u001b[0mjson_normalize\u001b[0m\u001b[0;34m(\u001b[0m\u001b[0mjson\u001b[0m\u001b[0;34m.\u001b[0m\u001b[0mload\u001b[0m\u001b[0;34m(\u001b[0m\u001b[0mopen\u001b[0m\u001b[0;34m(\u001b[0m\u001b[0mjson_path\u001b[0m \u001b[0;34m+\u001b[0m \u001b[0;34m'/'\u001b[0m \u001b[0;34m+\u001b[0m \u001b[0mfilename\u001b[0m\u001b[0;34m)\u001b[0m\u001b[0;34m)\u001b[0m\u001b[0;34m,\u001b[0m \u001b[0msep\u001b[0m \u001b[0;34m=\u001b[0m \u001b[0;34m\"_\"\u001b[0m\u001b[0;34m)\u001b[0m\u001b[0;34m\u001b[0m\u001b[0;34m\u001b[0m\u001b[0m\n",
      "\u001b[0;31mNameError\u001b[0m: name 'json_path' is not defined"
     ]
    }
   ],
   "source": [
    "dct = {}\n",
    "for i in lineups_match_ids:\n",
    "    d[i:8] = pd.json_normalize(json.load(open(json_path + '/' + filename)), sep = \"_\")\n",
    "    "
   ]
  },
  {
   "cell_type": "code",
   "execution_count": null,
   "metadata": {},
   "outputs": [],
   "source": []
  },
  {
   "cell_type": "code",
   "execution_count": null,
   "metadata": {},
   "outputs": [],
   "source": [
    "#use pandas instead, loop through json normalization and wait for it\n"
   ]
  }
 ],
 "metadata": {
  "kernelspec": {
   "display_name": "Python 3",
   "language": "python",
   "name": "python3"
  },
  "language_info": {
   "codemirror_mode": {
    "name": "ipython",
    "version": 3
   },
   "file_extension": ".py",
   "mimetype": "text/x-python",
   "name": "python",
   "nbconvert_exporter": "python",
   "pygments_lexer": "ipython3",
   "version": "3.8.6"
  }
 },
 "nbformat": 4,
 "nbformat_minor": 4
}
